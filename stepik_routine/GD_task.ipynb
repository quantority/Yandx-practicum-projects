{
  "nbformat": 4,
  "nbformat_minor": 0,
  "metadata": {
    "colab": {
      "provenance": [],
      "include_colab_link": true
    },
    "kernelspec": {
      "name": "python3",
      "display_name": "Python 3"
    },
    "language_info": {
      "name": "python"
    }
  },
  "cells": [
    {
      "cell_type": "markdown",
      "metadata": {
        "id": "view-in-github",
        "colab_type": "text"
      },
      "source": [
        "<a href=\"https://colab.research.google.com/github/quantority/Yandx-practicum-projects/blob/main/stepik_routine/GD_task.ipynb\" target=\"_parent\"><img src=\"https://colab.research.google.com/assets/colab-badge.svg\" alt=\"Open In Colab\"/></a>"
      ]
    },
    {
      "cell_type": "markdown",
      "source": [
        "# Градиентный спуск. Практика"
      ],
      "metadata": {
        "id": "2rIeJvNmzPJy"
      }
    },
    {
      "cell_type": "markdown",
      "source": [
        "## Импорт библиотек, установка константных значений"
      ],
      "metadata": {
        "id": "krXvdp0bzfJK"
      }
    },
    {
      "cell_type": "code",
      "source": [
        "import pandas as pd\n",
        "import numpy as np\n",
        "\n",
        "from sklearn.datasets import make_regression, fetch_california_housing\n",
        "from sklearn.metrics import r2_score\n",
        "from sklearn.model_selection import train_test_split"
      ],
      "metadata": {
        "id": "X6AuQbUpziB8"
      },
      "execution_count": 1,
      "outputs": []
    },
    {
      "cell_type": "code",
      "source": [
        "RANDOM_STATE = 123\n",
        "TRAIN_SIZE = 0.75"
      ],
      "metadata": {
        "id": "47ZRimlw6TEp"
      },
      "execution_count": 2,
      "outputs": []
    },
    {
      "cell_type": "code",
      "source": [
        "np.random.RandomState(RANDOM_STATE)"
      ],
      "metadata": {
        "id": "as1sEBKJt_Yb",
        "colab": {
          "base_uri": "https://localhost:8080/"
        },
        "outputId": "a98c279b-b83f-4cbc-eabf-4ec991a60b3e"
      },
      "execution_count": 3,
      "outputs": [
        {
          "output_type": "execute_result",
          "data": {
            "text/plain": [
              "RandomState(MT19937) at 0x7EA216686640"
            ]
          },
          "metadata": {},
          "execution_count": 3
        }
      ]
    },
    {
      "cell_type": "code",
      "source": [
        "np.random.seed(RANDOM_STATE)\n",
        "\n",
        "X, y, _ = make_regression(n_samples=100000,              # число объектов\n",
        "                          n_features=10,                 # число признаков\n",
        "                          n_informative=8,               # число информативных признаков\n",
        "                          noise=100,                     # уровень шума в данных\n",
        "                          coef=True,                     # значение True используется при генерации данных\n",
        "                          random_state=RANDOM_STATE)\n",
        "\n",
        "X = pd.DataFrame(data=X, columns=np.arange(0, X.shape[1]))\n",
        "X[10] = X[6] + X[7] + np.random.random()*0.01"
      ],
      "metadata": {
        "id": "S6nTuMqGGqp2"
      },
      "execution_count": 4,
      "outputs": []
    },
    {
      "cell_type": "markdown",
      "source": [
        "## Практика"
      ],
      "metadata": {
        "id": "ii1alV-Mtheh"
      }
    },
    {
      "cell_type": "markdown",
      "source": [
        "Реализуем метод градиентного спуска для обучения линейной регрессии."
      ],
      "metadata": {
        "id": "QvAfKSZkttN6"
      }
    },
    {
      "cell_type": "markdown",
      "source": [
        "### Задание 1 (1 балл)"
      ],
      "metadata": {
        "id": "oeueMbAitu84"
      }
    },
    {
      "cell_type": "markdown",
      "source": [
        "\n",
        "Напишите функцию, вычисляющую значение весов в линейной регрессии по точной (аналитически найденной) формуле:\n",
        "\n",
        "$$w = (X^TX)^{-1}X^Ty$$\n",
        "\n",
        "Комментарий: для поиска решения в векторном виде сначала необходимо добавить единичный столбец к матрице $X$.\n",
        "Это сделано в коде."
      ],
      "metadata": {
        "id": "lm6_Ln0GoliG"
      }
    },
    {
      "cell_type": "code",
      "source": [
        "def ols_solution(X, y):\n",
        "    X = np.hstack((np.ones((X.shape[0], 1)), X))\n",
        "    w = np.linalg.inv(X.T @ X) @ X.T @ y\n",
        "    return w"
      ],
      "metadata": {
        "id": "ZrVvpU9miOga"
      },
      "execution_count": 5,
      "outputs": []
    },
    {
      "cell_type": "markdown",
      "source": [
        "### Задание 2 (1 балл)"
      ],
      "metadata": {
        "id": "1dzeu5eRtz6Z"
      }
    },
    {
      "cell_type": "markdown",
      "source": [
        "Заполните функцию для предсказания модели по формуле\n",
        "$$a(X)=Xw$$"
      ],
      "metadata": {
        "id": "AMBKhU7Zhaev"
      }
    },
    {
      "cell_type": "code",
      "source": [
        "def prediction(X, w):\n",
        "    X = np.hstack((np.ones((X.shape[0], 1)), X))\n",
        "    y_pred = X @ w\n",
        "    return y_pred"
      ],
      "metadata": {
        "id": "CI63O1eUhmyx"
      },
      "execution_count": 6,
      "outputs": []
    },
    {
      "cell_type": "markdown",
      "source": [
        "Продублируем функцию для вычисления значения MSE из урока"
      ],
      "metadata": {
        "id": "OaPciXsEmznh"
      }
    },
    {
      "cell_type": "code",
      "source": [
        "def compute_cost(X, y, theta):\n",
        "    m = len(y)\n",
        "    cost = (1./m) * (np.linalg.norm(X @ theta - y) ** 2)\n",
        "    return cost"
      ],
      "metadata": {
        "id": "PqzBobT-m28D"
      },
      "execution_count": 7,
      "outputs": []
    },
    {
      "cell_type": "markdown",
      "source": [
        "### Задание 3"
      ],
      "metadata": {
        "id": "y592oWsDuJ9R"
      }
    },
    {
      "cell_type": "markdown",
      "source": [
        "Скопируйте метод градиентного спуска из [урока](https://colab.research.google.com/drive/1Bos0LeQP9AAB-nrS0z8b-8ag5xRSEdty?usp=sharing) в этот ноутбук.\n"
      ],
      "metadata": {
        "id": "VFANmcnV5DWz"
      }
    },
    {
      "cell_type": "code",
      "source": [
        "# ваш код здесь\n",
        "def gradient_descent(X, y, learning_rate, iterations):\n",
        "\n",
        "    X = np.hstack((np.ones((X.shape[0], 1)), X)) # добавляем к Х столбец из 1\n",
        "    params = np.random.rand(X.shape[1])\n",
        "\n",
        "    m = X.shape[0]\n",
        "\n",
        "    cost_track = np.zeros((iterations,1))\n",
        "\n",
        "    for i in range(iterations):\n",
        "        params = params - 2./m * learning_rate * (X.T @ ((X @ params) - y))\n",
        "        cost_track[i] = compute_cost(X, y, params)\n",
        "\n",
        "    return cost_track, params"
      ],
      "metadata": {
        "id": "VB9oE8Sg1WG9"
      },
      "execution_count": 8,
      "outputs": []
    },
    {
      "cell_type": "markdown",
      "source": [
        "### Бонус для отважных"
      ],
      "metadata": {
        "id": "X_3A_UGWztbY"
      }
    },
    {
      "cell_type": "markdown",
      "source": [
        "Если чувствуете в себе силы, попробуйте написать SGD сами."
      ],
      "metadata": {
        "id": "GMujXdy75Lb2"
      }
    },
    {
      "cell_type": "markdown",
      "source": [
        "Модифицируйте метод градиентного спуска из урока так, чтобы это теперь был метод стохастического градиентного спуска:\n",
        "\n",
        "* на каждой итерации выбирайте один случайный индекс `j` при помощи функции `random.randint`\n",
        "\n",
        "* градиент на каждой итерации градиентного спуска считайте не как сумму градиентов по всем объектам, а только по одному объекту с индексом `j`\n",
        "\n",
        "* на каждой итерации вычисляйте значение функции потерь и сохраняйте в список `cost_track`, который верните вместе с результатом работы функции"
      ],
      "metadata": {
        "id": "_shCsTQ1pVcU"
      }
    },
    {
      "cell_type": "code",
      "source": [
        "import random\n",
        "\n",
        "def stochastic_gradient_descent(X, y, learning_rate, iterations):\n",
        "\n",
        "    X = np.hstack((np.ones((X.shape[0], 1)), X))\n",
        "    params = np.random.rand(X.shape[1])\n",
        "\n",
        "    j = 0\n",
        "\n",
        "    cost_track = np.zeros((iterations,1))\n",
        "\n",
        "    for i in range(iterations):\n",
        "\n",
        "        # выберите случайный индекс в диапазон от 0 до len(X)-1 включительно при помощи функции random.randint\n",
        "        j = # ваш код здесь\n",
        "\n",
        "        # обновите веса, используя сдвиг по градиенту только по объекту X[j] (делить на m в данном случае не нужно)\n",
        "        params = # ваш код здесь\n",
        "        cost_track[i] = compute_cost(X, y, params)\n",
        "\n",
        "    return cost_track, params"
      ],
      "metadata": {
        "id": "fTZWxz1zpb9R"
      },
      "execution_count": 8,
      "outputs": []
    },
    {
      "cell_type": "markdown",
      "source": [
        "- Обучите линейную регрессию тремя методами (по точной формуле, с помощью GD и с помощью SGD) на данных для задачи регрессии ($X, y$). Для GD и самостоятельно написанного SGD используйте `learning_rate = 0.01, iterations = 10000`.\n",
        "\n",
        "*P.S. Если же вы используете не самописный SGD, а SGDRegressor из библиотеки sklearn.linear_model, то его объявляйте с гиперпараметрами по умолчанию, то есть в скобках при объявлении модели ничего не указывайте.*\n",
        "\n",
        "- С помощью каждого метода сделайте предсказание (на всех данных), вычислите качество предсказания r2 (`from sklearn.metrics import r2_score`). Для получения предсказания использовуйте функцию `predict`.\n"
      ],
      "metadata": {
        "id": "WnRlUa9Npi9o"
      }
    },
    {
      "cell_type": "code",
      "source": [
        "# **План**\n",
        "\n",
        "# 1 - находим веса одним из методов\n",
        "\n",
        "# 2 - применяем функцию prediction для получения предсказаний с найденными весами (либо predict в случае использования SGDRegressor из библиотеки sklearn)\n",
        "\n",
        "# 3 - вычисляем значение метрики r2\n",
        "\n"
      ],
      "metadata": {
        "id": "2TkO2mh5ky0m"
      },
      "execution_count": 9,
      "outputs": []
    },
    {
      "cell_type": "code",
      "source": [
        " from sklearn.metrics import r2_score\n",
        "\n",
        " # ols\n",
        "\n",
        " w = ols_solution(X, y)\n",
        "\n",
        " y_pred = prediction(X, w)\n",
        "\n",
        " r_2_ols = round(r2_score(y_true=y, y_pred=y_pred), 2)\n",
        "\n",
        " print(r_2_ols)"
      ],
      "metadata": {
        "colab": {
          "base_uri": "https://localhost:8080/"
        },
        "id": "qybUrESPYuvG",
        "outputId": "1c8c7449-0b7f-4cdf-b02e-41a6b052522b"
      },
      "execution_count": 10,
      "outputs": [
        {
          "output_type": "stream",
          "name": "stdout",
          "text": [
            "0.75\n"
          ]
        }
      ]
    },
    {
      "cell_type": "code",
      "source": [
        "# GD\n",
        "\n",
        "_, w = gradient_descent(X, y, 0.1, 100)\n",
        "\n",
        "y_pred = prediction(X, w)\n",
        "\n",
        "r_2_gd = round(r2_score(y_true=y, y_pred=y_pred), 2)\n",
        "\n",
        "print(r_2_gd)"
      ],
      "metadata": {
        "colab": {
          "base_uri": "https://localhost:8080/"
        },
        "id": "WlpbF48Ib5T0",
        "outputId": "91d838ee-65ac-43f5-dea4-2ece5308937b"
      },
      "execution_count": 11,
      "outputs": [
        {
          "output_type": "stream",
          "name": "stdout",
          "text": [
            "0.76\n"
          ]
        }
      ]
    },
    {
      "cell_type": "code",
      "source": [
        "from sklearn.linear_model import SGDRegressor\n",
        "\n",
        "# SGD\n",
        "\n",
        "sgd = SGDRegressor(learning_rate='constant', max_iter=100)\n",
        "\n",
        "sgd.fit(X, y)\n",
        "\n",
        "y_pred = sgd.predict(X)\n",
        "\n",
        "r_2_sgd = round(r2_score(y_true=y, y_pred=y_pred), 2)\n",
        "\n",
        "print(r_2_sgd)"
      ],
      "metadata": {
        "id": "zer-Ar_ekU7q",
        "colab": {
          "base_uri": "https://localhost:8080/"
        },
        "outputId": "6eea155e-0d33-4003-afa3-20c4de4a3a2d"
      },
      "execution_count": 12,
      "outputs": [
        {
          "output_type": "stream",
          "name": "stdout",
          "text": [
            "0.73\n"
          ]
        }
      ]
    },
    {
      "cell_type": "markdown",
      "source": [
        "## Quiz\n",
        "\n",
        "Чему равно значение метрики $R^2$ для аналитического подхода?\n",
        "\n",
        "Ответ округлите до сотых."
      ],
      "metadata": {
        "id": "ezvQOKaEkaLX"
      }
    },
    {
      "cell_type": "markdown",
      "source": [
        "## Quiz\n",
        "\n",
        "Нарисуйте траекторию уменьшения ошибки при обучении градиентного спуска (это параметр `cost_track`, возвращаемый функцией).\n",
        "\n",
        "Чему приблизительно равен loss модели на последних итерациях?\n",
        "\n",
        "Выберите наиболее близкий к полученному вами ответ."
      ],
      "metadata": {
        "id": "HaasnKmj2Eje"
      }
    },
    {
      "cell_type": "code",
      "source": [
        "import matplotlib.pyplot as plt\n",
        "\n",
        "error, _ = gradient_descent(X, y, 0.1, 100)\n",
        "\n",
        "plt.plot(error)"
      ],
      "metadata": {
        "colab": {
          "base_uri": "https://localhost:8080/",
          "height": 447
        },
        "id": "rbttXxUlxRzy",
        "outputId": "46fc735a-186a-484d-fd7d-c0d52e2c37f8"
      },
      "execution_count": 13,
      "outputs": [
        {
          "output_type": "execute_result",
          "data": {
            "text/plain": [
              "[<matplotlib.lines.Line2D at 0x7ea2354a5ed0>]"
            ]
          },
          "metadata": {},
          "execution_count": 13
        },
        {
          "output_type": "display_data",
          "data": {
            "text/plain": [
              "<Figure size 640x480 with 1 Axes>"
            ],
            "image/png": "[encoded data removed]"
          },
          "metadata": {}
        }
      ]
    },
    {
      "cell_type": "markdown",
      "source": [
        "## Quiz\n",
        "\n",
        "Измерьте время работы аналитического подхода, а также GD и SGD (используйте magic command [`%%time`](https://ipython.readthedocs.io/en/stable/interactive/magics.html)).\n",
        "\n",
        "Упорядочите результаты по возрастанию."
      ],
      "metadata": {
        "id": "hE7jBuyWkePj"
      }
    },
    {
      "cell_type": "markdown",
      "source": [
        "## Тестирование моделей на реальных данных\n",
        "\n",
        "В реальных задачах никто не пишет методы с нуля, если они уже реализованы в python. Самостоятельная реализация методов полезна для получения навыков программирования и более глубокого понимания алгоритмов.\n",
        "\n",
        "Давайте применим уже готовые методы из `sklearn` для решения задачи регрессии."
      ],
      "metadata": {
        "id": "7Lne3c3I1swS"
      }
    },
    {
      "cell_type": "code",
      "source": [
        "data = fetch_california_housing(as_frame=True)\n",
        "\n",
        "X = data.data\n",
        "y = data.target"
      ],
      "metadata": {
        "id": "qUhkRgYm1usp"
      },
      "execution_count": 14,
      "outputs": []
    },
    {
      "cell_type": "markdown",
      "source": [
        "Разобъем данные на трейн и тест"
      ],
      "metadata": {
        "id": "BlsxS_mb18A8"
      }
    },
    {
      "cell_type": "code",
      "source": [
        "X_train, X_test, y_train, y_test = train_test_split(\n",
        "    X,\n",
        "    y,\n",
        "    train_size=TRAIN_SIZE,\n",
        "    random_state=RANDOM_STATE\n",
        "    )"
      ],
      "metadata": {
        "id": "tKKC-nWE13ek"
      },
      "execution_count": 15,
      "outputs": []
    },
    {
      "cell_type": "markdown",
      "source": [
        "Для решения этой задачи попробуйте следующие модели:\n",
        "\n",
        "* `LinearRegression` из `sklearn`\n",
        "* `SGDRegressor` из `sklearn`\n",
        "\n",
        "Обучите модели на тренировочных данных с параметрами по умолчанию и сделайте предсказание на тесте.\n",
        "Вычислите значение $R^2$"
      ],
      "metadata": {
        "id": "1nxiq6Uq2K47"
      }
    },
    {
      "cell_type": "code",
      "source": [
        "from sklearn.linear_model import LinearRegression\n",
        "\n",
        "# ваш код здесь (Linear Regression)\n",
        "\n",
        "model = LinearRegression()\n",
        "\n",
        "model.fit(X_train, y_train)\n",
        "\n",
        "prediction = model.predict(X_test)\n",
        "\n",
        "print(round(r2_score(y_test, prediction), 2))"
      ],
      "metadata": {
        "id": "PdoNyLJy165x",
        "colab": {
          "base_uri": "https://localhost:8080/"
        },
        "outputId": "627403b9-50fa-4752-f7d7-79a492adfef7"
      },
      "execution_count": 16,
      "outputs": [
        {
          "output_type": "stream",
          "name": "stdout",
          "text": [
            "0.61\n"
          ]
        }
      ]
    },
    {
      "cell_type": "markdown",
      "source": [
        "## Quiz\n",
        "\n",
        "Чему равно значение $R^2$ для модели LinearRegression на тестовых данных?\n",
        "\n",
        "Ответ округлите до сотых."
      ],
      "metadata": {
        "id": "hq6lwN9ZmNgL"
      }
    },
    {
      "cell_type": "code",
      "source": [
        "# ваш код здесь (SGD Regressor)\n",
        "\n",
        "model = SGDRegressor()\n",
        "\n",
        "model.fit(X_train, y_train)\n",
        "\n",
        "prediction = model.predict(X_test)\n",
        "\n",
        "print(round(r2_score(y_test, prediction), 2))"
      ],
      "metadata": {
        "id": "atfZE2L0mNwz",
        "colab": {
          "base_uri": "https://localhost:8080/"
        },
        "outputId": "58ab3b04-f89b-4c2b-9c91-4e169b865e98"
      },
      "execution_count": 17,
      "outputs": [
        {
          "output_type": "stream",
          "name": "stdout",
          "text": [
            "-5.9806390974374294e+29\n"
          ]
        }
      ]
    },
    {
      "cell_type": "markdown",
      "source": [
        "## Quiz\n",
        "\n",
        "Какая модель с параметрами по умолчанию лучше справилась с предсказанием стоимости домов в Калифорнии?"
      ],
      "metadata": {
        "id": "BH56-5XHl9qg"
      }
    },
    {
      "cell_type": "markdown",
      "source": [
        "## Quiz\n",
        "\n",
        "Проинтерпретируйте качество метода SGDRegressor. Выберите наиболее подходящий вариант."
      ],
      "metadata": {
        "id": "W2yCxAIL37e7"
      }
    },
    {
      "cell_type": "markdown",
      "source": [
        "С параметрами по умолчанию лучший результат показал МНК, для SGB важен подбор подходящего learning rate. Для данной задачи с параметрами по умолчанию метод не смог сойтись."
      ],
      "metadata": {
        "id": "5gupqs212RfK"
      }
    }
  ]
}